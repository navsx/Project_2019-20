{
 "cells": [
  {
   "cell_type": "markdown",
   "metadata": {},
   "source": [
    " "
   ]
  },
  {
   "cell_type": "code",
   "execution_count": 9,
   "metadata": {},
   "outputs": [
    {
     "name": "stdout",
     "output_type": "stream",
     "text": [
      "  item_category item_name  item_exp\n",
      "0             x      cake       100\n",
      "1             x  choclate       200\n",
      "2             x    cookie       300\n",
      "3             y      cake       400\n",
      "4             y  choclate       500\n",
      "5             y    cookie       600\n",
      "6             z      cake       700\n",
      "7             z  choclate       800\n",
      "8             z    cookie       900\n",
      "item_category\n",
      "x     600\n",
      "y    1500\n",
      "z    2400\n",
      "Name: item_exp, dtype: int64\n"
     ]
    }
   ],
   "source": [
    "import pandas as pd\n",
    "import numpy as np\n",
    "df=pd.DataFrame({'item_category':['x','x','x','y','y','y','z','z','z'],\n",
    "                 'item_name':['cake','choclate','cookie','cake','choclate','cookie','cake','choclate','cookie'],\n",
    "                 'item_exp':[100,200,300,400,500,600,700,800,900]})\n",
    "print(df)\n",
    "df1=df.groupby('item_category')['item_exp'].sum()\n",
    "print(df1)"
   ]
  },
  {
   "cell_type": "code",
   "execution_count": 1,
   "metadata": {},
   "outputs": [
    {
     "name": "stdout",
     "output_type": "stream",
     "text": [
      "5\n"
     ]
    }
   ],
   "source": [
    "import pandas as pd\n",
    "import numpy as np\n",
    "obj1=pd.Series([50,34,67,9,54])\n",
    "print(obj1.size)"
   ]
  },
  {
   "cell_type": "code",
   "execution_count": 2,
   "metadata": {},
   "outputs": [
    {
     "name": "stdout",
     "output_type": "stream",
     "text": [
      "RangeIndex(start=0, stop=6, step=1)\n"
     ]
    }
   ],
   "source": [
    "obj2=pd.Series([6,87,65,45,43,23])\n",
    "print(obj2.index)"
   ]
  },
  {
   "cell_type": "code",
   "execution_count": 3,
   "metadata": {},
   "outputs": [
    {
     "name": "stdout",
     "output_type": "stream",
     "text": [
      "  name  age\n",
      "0   p1   17\n",
      "1   p2   15\n"
     ]
    }
   ],
   "source": [
    "import pandas as pd1\n",
    "data1={'name':['p1','p2'],'age':[17,15]}\n",
    "df1=pd1.DataFrame(data1)\n",
    "print(df1)#using dictionary of list"
   ]
  },
  {
   "cell_type": "code",
   "execution_count": 4,
   "metadata": {},
   "outputs": [
    {
     "name": "stdout",
     "output_type": "stream",
     "text": [
      "  name  age\n",
      "0   p1   17\n",
      "1   p2   15\n",
      "   name  age\n",
      "i1   p1   17\n",
      "i2   p2   15\n"
     ]
    }
   ],
   "source": [
    "import pandas as pd1\n",
    "data1={'name':['p1','p2'],'age':[17,15]}\n",
    "df1=pd1.DataFrame(data1)\n",
    "print(df1)\n",
    "df2=pd1.DataFrame(data1,index=['i1','i2'])\n",
    "print(df2)#custom index"
   ]
  },
  {
   "cell_type": "code",
   "execution_count": 6,
   "metadata": {},
   "outputs": [
    {
     "name": "stdout",
     "output_type": "stream",
     "text": [
      "     x  y    z\n",
      "one  1  2  NaN\n",
      "two  5  4  5.0\n",
      "         x    y    z\n",
      "one    1.0  2.0  NaN\n",
      "two    5.0  4.0  5.0\n",
      "three  1.0  2.0  NaN\n",
      "       x    y    z\n",
      "one  1.0  2.0  NaN\n",
      "two  5.0  4.0  5.0\n"
     ]
    }
   ],
   "source": [
    "import pandas as pd1\n",
    "data1=[{'x':1,'y':2},{'x':5,'y':4,'z':5}]\n",
    "df1=pd1.DataFrame(data1,index=['one','two'])\n",
    "print(df1)#using list of dictionary\n",
    "df1.loc['three']=df1.loc['one']\n",
    "print(df1)\n",
    "print(df1[:2])#adding row"
   ]
  },
  {
   "cell_type": "code",
   "execution_count": 7,
   "metadata": {},
   "outputs": [
    {
     "name": "stdout",
     "output_type": "stream",
     "text": [
      "     x  y    z  w\n",
      "one  1  2  NaN  1\n",
      "two  5  4  5.0  5\n",
      "     x  y    z  w\n",
      "one  1  2  NaN  1\n",
      "two  5  4  5.0  5\n"
     ]
    }
   ],
   "source": [
    "import pandas as pd1\n",
    "data1=[{'x':1,'y':2},{'x':5,'y':4,'z':5}]\n",
    "df1=pd1.DataFrame(data1,index=['one','two'])\n",
    "df1.loc[:,'w']=df1.loc[:,'x']\n",
    "print(df1)\n",
    "print(df1[:3])#adding column"
   ]
  },
  {
   "cell_type": "code",
   "execution_count": 19,
   "metadata": {},
   "outputs": [
    {
     "name": "stdout",
     "output_type": "stream",
     "text": [
      "2 x 1 = 2\n",
      "2 x 2 = 4\n",
      "2 x 3 = 6\n",
      "2 x 4 = 8\n",
      "2 x 5 = 10\n",
      "2 x 6 = 12\n",
      "2 x 7 = 14\n",
      "2 x 8 = 16\n",
      "2 x 9 = 18\n",
      "2 x 10 = 20\n"
     ]
    }
   ],
   "source": [
    "n=0\n",
    "for n in range(1,11):\n",
    "    data1=print('2','x',n,'=',2*n) \n",
    "df1=pd1.DataFrame(data1)\n",
    "      \n",
    "    "
   ]
  },
  {
   "cell_type": "code",
   "execution_count": 12,
   "metadata": {},
   "outputs": [
    {
     "name": "stdout",
     "output_type": "stream",
     "text": [
      "       x    y    z\n",
      "one  1.0  2.0  7.0\n",
      "two  5.0  4.0  5.0\n",
      "w    NaN  NaN  NaN\n",
      "       x    y    z\n",
      "one  1.0  2.0  7.0\n",
      "two  5.0  4.0  5.0\n",
      "w    NaN  NaN  NaN\n"
     ]
    }
   ],
   "source": [
    "import pandas as pd1\n",
    "data1=[{'x':1,'y':2,'z':7},{'x':5,'y':4,'z':5}]\n",
    "df1=pd1.DataFrame(data1,index=['one','two'])\n",
    "df1.loc['w',:]=df1.loc[:,'x']\n",
    "print(df1)\n",
    "print(df1[:3])#adding column"
   ]
  },
  {
   "cell_type": "code",
   "execution_count": 15,
   "metadata": {},
   "outputs": [
    {
     "name": "stdout",
     "output_type": "stream",
     "text": [
      "     x  y    z  w\n",
      "one  1  2  NaN  3\n",
      "two  5  4  5.0  9\n",
      "     x  y    z  w\n",
      "one  1  2  NaN  3\n",
      "two  5  4  5.0  9\n"
     ]
    }
   ],
   "source": [
    "import pandas as pd1\n",
    "data1=[{'x':1,'y':2},{'x':5,'y':4,'z':5}]\n",
    "df1=pd1.DataFrame(data1,index=['one','two'])\n",
    "df1.loc[:,'w']=df1['x']+df1['y']\n",
    "print(df1)\n",
    "print(df1[:3])#adding column"
   ]
  },
  {
   "cell_type": "code",
   "execution_count": 21,
   "metadata": {},
   "outputs": [
    {
     "name": "stdout",
     "output_type": "stream",
     "text": [
      "       x    y    z\n",
      "one  1.0  2.0  4.0\n",
      "two  5.0  4.0  5.0\n",
      "5    NaN  NaN  NaN\n",
      "       x    y    z\n",
      "one  1.0  2.0  4.0\n",
      "two  5.0  4.0  5.0\n",
      "5    NaN  NaN  NaN\n"
     ]
    }
   ],
   "source": [
    "import pandas as pd1\n",
    "data2=[{'x':1,'y':2,'z':4},{'x':5,'y':4,'z':5}]\n",
    "df2=pd1.DataFrame(data2,index=['one','two'])\n",
    "df2.loc['w']=df2['x']+df2['y']\n",
    "print(df2)\n",
    "print(df2[:3])#adding column"
   ]
  },
  {
   "cell_type": "code",
   "execution_count": 5,
   "metadata": {},
   "outputs": [
    {
     "name": "stdout",
     "output_type": "stream",
     "text": [
      "       x   y     z   w\n",
      "one    1   2   2.0   3\n",
      "two    5   4   5.0   9\n",
      "three  7  10  17.0  17\n"
     ]
    }
   ],
   "source": [
    " import pandas as pd1\n",
    "data2=[{'x':1,'y':2,'z':4},{'x':5,'y':4,'z':5},{'x':7,'y':10,'z':17}]\n",
    "df2=pd1.DataFrame(data2,index=['one','two','three'])\n",
    "df2.loc[:,'w']=df2['x']+df2['y']\n",
    "#df2.loc[0,'z']=19\n",
    "#df2.iloc[0,2]=25\n",
    "df2.iloc[0,2]=df2.iloc[0,2]/2\n",
    "print(df2)\n",
    "#print(df2[:3])#adding column\n"
   ]
  },
  {
   "cell_type": "code",
   "execution_count": 12,
   "metadata": {},
   "outputs": [
    {
     "name": "stdout",
     "output_type": "stream",
     "text": [
      "a\n",
      "b\n",
      "c\n",
      "d\n",
      "e\n",
      "            a     b         c       d           e\n",
      "0  2016-01-01   0.0  0.521273     low   99.524296\n",
      "1  2016-01-02   1.0  0.179056  medium  109.628400\n",
      "2  2016-01-03   2.0  0.738386    high   94.679412\n",
      "3  2016-01-04   3.0  0.937327  medium   92.541403\n",
      "4  2016-01-05   4.0  0.840032  medium   80.042663\n",
      "5  2016-01-06   5.0  0.532604    high   97.795323\n",
      "6  2016-01-07   6.0  0.027351     low  113.792557\n",
      "7  2016-01-08   7.0  0.483706     low   95.192458\n",
      "8  2016-01-09   8.0  0.714183    high   86.749865\n",
      "9  2016-01-10   9.0  0.712777     low  104.286595\n",
      "10 2016-01-11  10.0  0.259358    high   96.424523\n",
      "11 2016-01-12  11.0  0.823887  medium  101.049133\n",
      "12 2016-01-13  12.0  0.482794     low   99.230787\n",
      "13 2016-01-14  13.0  0.180472    high   98.544148\n",
      "14 2016-01-15  14.0  0.770289    high  100.271152\n",
      "15 2016-01-16  15.0  0.447806     low  109.890858\n",
      "16 2016-01-17  16.0  0.706185  medium  110.768288\n",
      "17 2016-01-18  17.0  0.021306  medium   98.312448\n",
      "18 2016-01-19  18.0  0.741626     low  105.871579\n",
      "19 2016-01-20  19.0  0.657503    high   84.537598\n",
      "            a     b         c       d           e\n",
      "0  2016-01-01   0.0  0.521273     low   99.524296\n",
      "1  2016-01-02   1.0  0.179056  medium  109.628400\n",
      "2  2016-01-03   2.0  0.738386    high   94.679412\n",
      "3  2016-01-04   3.0  0.937327  medium   92.541403\n",
      "4  2016-01-05   4.0  0.840032  medium   80.042663\n",
      "5  2016-01-06   5.0  0.532604    high   97.795323\n",
      "6  2016-01-07   6.0  0.027351     low  113.792557\n",
      "7  2016-01-08   7.0  0.483706     low   95.192458\n",
      "8  2016-01-09   8.0  0.714183    high   86.749865\n",
      "9  2016-01-10   9.0  0.712777     low  104.286595\n",
      "10 2016-01-11  10.0  0.259358    high   96.424523\n",
      "11 2016-01-12  11.0  0.823887  medium  101.049133\n",
      "12 2016-01-13  12.0  0.482794     low   99.230787\n",
      "13 2016-01-14  13.0  0.180472    high   98.544148\n",
      "14 2016-01-15  14.0  0.770289    high  100.271152\n",
      "15 2016-01-16  15.0  0.447806     low  109.890858\n",
      "16 2016-01-17  16.0  0.706185  medium  110.768288\n",
      "17 2016-01-18  17.0  0.021306  medium   98.312448\n",
      "18 2016-01-19  18.0  0.741626     low  105.871579\n",
      "19 2016-01-20  19.0  0.657503    high   84.537598\n"
     ]
    }
   ],
   "source": [
    "#iteration with rows\n",
    "import pandas as pd\n",
    "import numpy as np\n",
    "n=20\n",
    "df=pd.DataFrame({\n",
    "    'a':pd.date_range(start='2016-01-01',periods=n,freq='d'),\n",
    "    'b':np.linspace(0,stop=n-1,num=n),\n",
    "    'c':np.random.rand(n),\n",
    "    'd':np.random.choice(['low','medium','high'],n).tolist(),\n",
    "    'e':np.random.normal(100,10,size=(n)).tolist(),\n",
    "})\n",
    "for col in df:\n",
    "    print(col)\n",
    "print(df)\n",
    "for index,row in df.iterrows():\n",
    "    row['a']=10\n",
    "print(df)"
   ]
  },
  {
   "cell_type": "code",
   "execution_count": null,
   "metadata": {},
   "outputs": [],
   "source": [
    "import pandas as pd\n",
    "import numpy as np\n",
    "n=int(input(\"Enter the number\\n\"))\n",
    "df=pd.DataFrame({\n",
    "    's.no':np.arange(1,11),\n",
    "    'n':[n]*10,\n",
    "    'x':['x']*10,\n",
    "    'i':[i for i in range(1,11)],\n",
    "    'o':[n*i for i in range(1,11)]})\n",
    "\n",
    "print(df)\n",
    "df.loc[:'nxi']=df['n']*df['i']\n",
    "print(df)"
   ]
  },
  {
   "cell_type": "code",
   "execution_count": 15,
   "metadata": {},
   "outputs": [
    {
     "name": "stdout",
     "output_type": "stream",
     "text": [
      "Enter the number\n",
      "25\n",
      "   s.no   n  x   i    o\n",
      "0     1  25  x   1   25\n",
      "1     2  25  x   2   50\n",
      "2     3  25  x   3   75\n",
      "3     4  25  x   4  100\n",
      "4     5  25  x   5  125\n",
      "5     6  25  x   6  150\n",
      "6     7  25  x   7  175\n",
      "7     8  25  x   8  200\n",
      "8     9  25  x   9  225\n",
      "9    10  25  x  10  250\n",
      "   s.no   n  x   i    o\n",
      "0     1  25  x   1   25\n",
      "1     2  25  x   2   50\n",
      "2     3  25  x   3   75\n",
      "3     4  25  x   4  100\n",
      "4     5  25  x   5  125\n",
      "5     6  25  x   6  150\n",
      "6     7  25  x   7  175\n",
      "7     8  25  x   8  200\n",
      "8     9  25  x   9  225\n",
      "9    10  25  x  10  250\n"
     ]
    }
   ],
   "source": [
    "import pandas as pd\n",
    "import numpy as np\n",
    "n=int(input(\"Enter the number\\n\"))\n",
    "df=pd.DataFrame({\n",
    "    's.no':np.arange(1,11),\n",
    "    'n':[n]*10,\n",
    "    'x':['x']*10,\n",
    "    'i':[i for i in range(1,11)],\n",
    "    'o':[n*i for i in range(1,11)]})\n",
    "\n",
    "print(df)\n",
    "#df.loc[:'nxi']=df['n']*df['i']\n",
    "print(df)"
   ]
  },
  {
   "cell_type": "code",
   "execution_count": 7,
   "metadata": {},
   "outputs": [
    {
     "name": "stdout",
     "output_type": "stream",
     "text": [
      "   age     name  rating\n",
      "0   18    ramya     3.7\n",
      "1   21    varun     3.2\n",
      "2   20  nikhila     3.9\n",
      "3   23    manab     4.2\n",
      "4   19   aakshu     4.0\n",
      "5   27  bhairav     4.7\n",
      "6   29     agni     3.8\n",
      "3.928571428571429\n"
     ]
    }
   ],
   "source": [
    "import pandas as pd\n",
    "import numpy as np\n",
    "df1=pd.DataFrame({\n",
    "    \n",
    "    'age':[18,21,20,23,19,27,29],\n",
    "    'name':['ramya','varun','nikhila','manab','aakshu','bhairav','agni'],\n",
    "    'rating':[3.7,3.2,3.9,4.2,4.0,4.7,3.8],\n",
    "})\n",
    "print(df1)\n",
    "mean=sum(df1['rating']/7)\n",
    "print(mean)\n",
    "#np.median(df1)"
   ]
  },
  {
   "cell_type": "code",
   "execution_count": null,
   "metadata": {},
   "outputs": [],
   "source": []
  }
 ],
 "metadata": {
  "kernelspec": {
   "display_name": "Python 3",
   "language": "python",
   "name": "python3"
  },
  "language_info": {
   "codemirror_mode": {
    "name": "ipython",
    "version": 3
   },
   "file_extension": ".py",
   "mimetype": "text/x-python",
   "name": "python",
   "nbconvert_exporter": "python",
   "pygments_lexer": "ipython3",
   "version": "3.7.0"
  }
 },
 "nbformat": 4,
 "nbformat_minor": 2
}
