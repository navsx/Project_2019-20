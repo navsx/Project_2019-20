{
 "cells": [
  {
   "cell_type": "code",
   "execution_count": null,
   "metadata": {},
   "outputs": [
    {
     "name": "stdout",
     "output_type": "stream",
     "text": [
      "v= 5\n",
      "v= 4\n",
      "v= 3\n",
      "v= 2\n",
      "v= 1\n",
      "v= 0\n"
     ]
    }
   ],
   "source": [
    "import PySimpleGUI as sg\n",
    "import time\n",
    "\n",
    "\n",
    "\n",
    "def time_as_int():\n",
    "    return int(round(time.time() * 100))\n",
    "def new_window():\n",
    "    layout = [[sg.Text('Persistent window')],\n",
    "                  [sg.Input()],\n",
    "                  [sg.Button('Read'), sg.Exit()]]\n",
    "    window = sg.Window('Window that stays open', layout)\n",
    "\n",
    "    while True:\n",
    "        event, values = window.Read()\n",
    "        if event is None or event == 'Exit':\n",
    "            break\n",
    "        print(event, values)\n",
    "        break\n",
    "\n",
    "    window.Close() \n",
    "        \n",
    "\n",
    "layout1 = [ [sg.Text('Timer')],\n",
    "          [sg.Text(text=\"\",size=(8, 2), font=('Helvetica', 20), justification='center', key='_TEXT_')],\n",
    "           [sg.Button('Read')]]\n",
    "\n",
    "window1 = sg.Window('My new window', layout1)\n",
    "current_time, paused_time, paused = 0, 0, False\n",
    "start_time = time_as_int()\n",
    "while True:             # Event Loop\n",
    "    event, values = window1.Read(1000)\n",
    "    current_time = time_as_int() - start_time\n",
    "    v=6-(((current_time // 100) % 60)%7)\n",
    "    print(\"v=\",v)\n",
    "    if v==0:\n",
    "        window1.Element('_TEXT_').Update('Times up')\n",
    "        window1.Hide()\n",
    "        new_window()\n",
    "        \n",
    "        #break\n",
    "        \n",
    "    else:    \n",
    "        window1.Element('_TEXT_').Update('{:02d}'.format(v))\n",
    "\n",
    "        if event is None:\n",
    "            break\n",
    "        elif event==\"Read\" :\n",
    "            new_window() \n",
    "        \n",
    "############################################################        \n",
    "        \n",
    "       \n",
    "        "
   ]
  },
  {
   "cell_type": "code",
   "execution_count": null,
   "metadata": {},
   "outputs": [],
   "source": []
  },
  {
   "cell_type": "code",
   "execution_count": null,
   "metadata": {},
   "outputs": [],
   "source": []
  },
  {
   "cell_type": "code",
   "execution_count": null,
   "metadata": {},
   "outputs": [],
   "source": []
  },
  {
   "cell_type": "code",
   "execution_count": null,
   "metadata": {},
   "outputs": [],
   "source": [
    "def time_as_int():\n",
    "    return int(round(time.time() * 100))\n",
    "current_time, paused_time, paused = 0, 0, False\n",
    "start_time = time_as_int()"
   ]
  }
 ],
 "metadata": {
  "kernelspec": {
   "display_name": "Python 3",
   "language": "python",
   "name": "python3"
  },
  "language_info": {
   "codemirror_mode": {
    "name": "ipython",
    "version": 3
   },
   "file_extension": ".py",
   "mimetype": "text/x-python",
   "name": "python",
   "nbconvert_exporter": "python",
   "pygments_lexer": "ipython3",
   "version": "3.7.1"
  }
 },
 "nbformat": 4,
 "nbformat_minor": 2
}
